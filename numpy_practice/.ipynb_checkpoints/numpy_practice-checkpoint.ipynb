{
 "cells": [
  {
   "cell_type": "code",
   "execution_count": 8,
   "id": "41ed4f21-3093-4819-8184-bafec3d9c2ad",
   "metadata": {},
   "outputs": [
    {
     "data": {
      "text/plain": [
       "[[1, 2, 3], [6, 5, 4], [7, 8, 9]]"
      ]
     },
     "execution_count": 8,
     "metadata": {},
     "output_type": "execute_result"
    }
   ],
   "source": [
    "import numpy as np\n",
    "my_list = [[1,2,3],[6,5,4],[7,8,9]]\n",
    "my_list"
   ]
  },
  {
   "cell_type": "code",
   "execution_count": 12,
   "id": "7b492c83-3941-4dad-ab0f-99d5769a3193",
   "metadata": {},
   "outputs": [
    {
     "data": {
      "text/plain": [
       "array([[1, 2, 3],\n",
       "       [6, 5, 4],\n",
       "       [7, 8, 9]])"
      ]
     },
     "execution_count": 12,
     "metadata": {},
     "output_type": "execute_result"
    }
   ],
   "source": [
    "arr = np.array(my_list)\n",
    "arr"
   ]
  },
  {
   "cell_type": "code",
   "execution_count": 24,
   "id": "37486cb8-4b27-4ee1-9450-47ff3537faf5",
   "metadata": {},
   "outputs": [
    {
     "name": "stdout",
     "output_type": "stream",
     "text": [
      "[[0. 0.]\n",
      " [0. 0.]]\n"
     ]
    },
    {
     "data": {
      "text/plain": [
       "array([[1., 1., 1., 1., 1.],\n",
       "       [1., 1., 1., 1., 1.],\n",
       "       [1., 1., 1., 1., 1.],\n",
       "       [1., 1., 1., 1., 1.],\n",
       "       [1., 1., 1., 1., 1.]])"
      ]
     },
     "execution_count": 24,
     "metadata": {},
     "output_type": "execute_result"
    }
   ],
   "source": [
    "#matrix generation\n",
    "print(np.zeros((2,2)))\n",
    "np.ones((5,5))"
   ]
  },
  {
   "cell_type": "code",
   "execution_count": 28,
   "id": "eb5edf42-fefd-467d-8399-909e3d8ffe9f",
   "metadata": {},
   "outputs": [
    {
     "data": {
      "text/plain": [
       "array([ 0,  3,  6,  9, 12, 15, 18, 21, 24, 27])"
      ]
     },
     "execution_count": 28,
     "metadata": {},
     "output_type": "execute_result"
    }
   ],
   "source": [
    "#sequence genertor\n",
    "np.arange(0, 30, 3)"
   ]
  },
  {
   "cell_type": "code",
   "execution_count": 34,
   "id": "ee3f9ebc-27fa-4978-a22f-bc350e3aa83c",
   "metadata": {},
   "outputs": [
    {
     "data": {
      "text/plain": [
       "array([0.        , 0.11111111, 0.22222222, 0.33333333, 0.44444444,\n",
       "       0.55555556, 0.66666667, 0.77777778, 0.88888889, 1.        ])"
      ]
     },
     "execution_count": 34,
     "metadata": {},
     "output_type": "execute_result"
    }
   ],
   "source": [
    "#equal gaps between number\n",
    "np.linspace(0,1,10)"
   ]
  },
  {
   "cell_type": "code",
   "execution_count": 46,
   "id": "9308a43b-d32e-4e5e-95b0-648aa8b2407f",
   "metadata": {},
   "outputs": [
    {
     "data": {
      "text/plain": [
       "array([[1., 0., 0., 0., 0., 0.],\n",
       "       [0., 1., 0., 0., 0., 0.],\n",
       "       [0., 0., 1., 0., 0., 0.],\n",
       "       [0., 0., 0., 1., 0., 0.],\n",
       "       [0., 0., 0., 0., 1., 0.],\n",
       "       [0., 0., 0., 0., 0., 1.]])"
      ]
     },
     "execution_count": 46,
     "metadata": {},
     "output_type": "execute_result"
    }
   ],
   "source": [
    "#identity matrix\n",
    "np.eye((6))"
   ]
  },
  {
   "cell_type": "code",
   "execution_count": 62,
   "id": "2283ed62-aa81-41e7-826b-54bd894a3d6e",
   "metadata": {},
   "outputs": [
    {
     "name": "stdout",
     "output_type": "stream",
     "text": [
      "[0.05376468 0.40826232 0.06883605]\n",
      "[-1.25876632  1.14307882  0.93477922]\n",
      "[2 1]\n"
     ]
    }
   ],
   "source": [
    "#random number genertaion\n",
    "print(np.random.rand(3)) #no negative Guassian distribution\n",
    "print(np.random.randn(3)) #include negative normal distribution\n",
    "print(np.random.randint(0, 100, 2)) #selecting random int from range"
   ]
  },
  {
   "cell_type": "code",
   "execution_count": 86,
   "id": "00d93930-2163-40e6-81f3-676c3b3e370a",
   "metadata": {},
   "outputs": [
    {
     "name": "stdout",
     "output_type": "stream",
     "text": [
      "[40 47 33 37  0 73 84 56 25 55 58 46 82 21 82 81]\n",
      "\n",
      "\n",
      "[[40 47 33 37]\n",
      " [ 0 73 84 56]\n",
      " [25 55 58 46]\n",
      " [82 21 82 81]]\n"
     ]
    }
   ],
   "source": [
    "#reshaping an array\n",
    "arr = np.random.randint(0, 100, 16)\n",
    "print(arr)\n",
    "print(\"\\n\")\n",
    "arr = arr.reshape(4,4)\n",
    "print(arr)"
   ]
  },
  {
   "cell_type": "code",
   "execution_count": 84,
   "id": "b3c7e02a-8791-43e3-86cf-02de48b6029a",
   "metadata": {},
   "outputs": [
    {
     "name": "stdout",
     "output_type": "stream",
     "text": [
      "95\n",
      "0\n",
      "\n",
      "\n",
      "11\n",
      "0\n"
     ]
    }
   ],
   "source": [
    "#min max\n",
    "print(arr.max())\n",
    "print(arr.min())\n",
    "\n",
    "print(\"\\n\")\n",
    "#index location of max min\n",
    "print(arr.argmax())\n",
    "print(arr.argmin())\n",
    "\n"
   ]
  },
  {
   "cell_type": "code",
   "execution_count": 92,
   "id": "c33cfe42-2a73-467d-9932-1b678b1f2f56",
   "metadata": {},
   "outputs": [
    {
     "name": "stdout",
     "output_type": "stream",
     "text": [
      "(4, 4)\n",
      "int32\n"
     ]
    }
   ],
   "source": [
    "#shape of matrix and data type\n",
    "print(arr.shape)\n",
    "print(arr.dtype)"
   ]
  },
  {
   "cell_type": "code",
   "execution_count": null,
   "id": "16ff2b10-62b7-4aac-bfa7-5da3a147ee98",
   "metadata": {},
   "outputs": [],
   "source": []
  }
 ],
 "metadata": {
  "kernelspec": {
   "display_name": "Python 3 (ipykernel)",
   "language": "python",
   "name": "python3"
  },
  "language_info": {
   "codemirror_mode": {
    "name": "ipython",
    "version": 3
   },
   "file_extension": ".py",
   "mimetype": "text/x-python",
   "name": "python",
   "nbconvert_exporter": "python",
   "pygments_lexer": "ipython3",
   "version": "3.11.7"
  }
 },
 "nbformat": 4,
 "nbformat_minor": 5
}
